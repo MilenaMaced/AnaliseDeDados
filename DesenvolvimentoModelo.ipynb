{
  "nbformat": 4,
  "nbformat_minor": 0,
  "metadata": {
    "colab": {
      "name": "DesenvolvimentoModelo.ipynb",
      "provenance": []
    },
    "kernelspec": {
      "name": "python3",
      "display_name": "Python 3"
    }
  },
  "cells": [
    {
      "cell_type": "markdown",
      "metadata": {
        "id": "43SIWgIONzdU",
        "colab_type": "text"
      },
      "source": [
        "# Desenvolvimento de um modelo\n",
        "\n",
        "Análise de dados, geralmente usamos o Desenvolvimento de modelos para nos ajudar a prever observações futuras a partir dos dados que temos.\n",
        "\n",
        "Um modelo nos ajudará a entender a relação exata entre diferentes variáveis ​​e como essas variáveis ​​são usadas para prever o resultado."
      ]
    },
    {
      "cell_type": "markdown",
      "metadata": {
        "id": "z0V2NlbFOOoV",
        "colab_type": "text"
      },
      "source": [
        "### Importando bibliotecas"
      ]
    },
    {
      "cell_type": "code",
      "metadata": {
        "id": "9iJLwbS0Nsik",
        "colab_type": "code",
        "colab": {}
      },
      "source": [
        "import pandas as pd\n",
        "import matplotlib.pyplot as plt\n",
        "import numpy as np"
      ],
      "execution_count": 82,
      "outputs": []
    },
    {
      "cell_type": "markdown",
      "metadata": {
        "id": "r64w8Q0TQtoI",
        "colab_type": "text"
      },
      "source": [
        "### Base de Dados"
      ]
    },
    {
      "cell_type": "code",
      "metadata": {
        "id": "xRfg5KImOuWu",
        "colab_type": "code",
        "colab": {
          "base_uri": "https://localhost:8080/",
          "height": 309
        },
        "outputId": "7d889057-eb30-4001-b740-f4b86bb8f8bf"
      },
      "source": [
        "caminho = 'https://s3-api.us-geo.objectstorage.softlayer.net/cf-courses-data/CognitiveClass/DA0101EN/automobileEDA.csv'\n",
        "data = pd.read_csv(caminho)\n",
        "data.head()"
      ],
      "execution_count": 83,
      "outputs": [
        {
          "output_type": "execute_result",
          "data": {
            "text/html": [
              "<div>\n",
              "<style scoped>\n",
              "    .dataframe tbody tr th:only-of-type {\n",
              "        vertical-align: middle;\n",
              "    }\n",
              "\n",
              "    .dataframe tbody tr th {\n",
              "        vertical-align: top;\n",
              "    }\n",
              "\n",
              "    .dataframe thead th {\n",
              "        text-align: right;\n",
              "    }\n",
              "</style>\n",
              "<table border=\"1\" class=\"dataframe\">\n",
              "  <thead>\n",
              "    <tr style=\"text-align: right;\">\n",
              "      <th></th>\n",
              "      <th>symboling</th>\n",
              "      <th>normalized-losses</th>\n",
              "      <th>make</th>\n",
              "      <th>aspiration</th>\n",
              "      <th>num-of-doors</th>\n",
              "      <th>body-style</th>\n",
              "      <th>drive-wheels</th>\n",
              "      <th>engine-location</th>\n",
              "      <th>wheel-base</th>\n",
              "      <th>length</th>\n",
              "      <th>width</th>\n",
              "      <th>height</th>\n",
              "      <th>curb-weight</th>\n",
              "      <th>engine-type</th>\n",
              "      <th>num-of-cylinders</th>\n",
              "      <th>engine-size</th>\n",
              "      <th>fuel-system</th>\n",
              "      <th>bore</th>\n",
              "      <th>stroke</th>\n",
              "      <th>compression-ratio</th>\n",
              "      <th>horsepower</th>\n",
              "      <th>peak-rpm</th>\n",
              "      <th>city-mpg</th>\n",
              "      <th>highway-mpg</th>\n",
              "      <th>price</th>\n",
              "      <th>city-L/100km</th>\n",
              "      <th>horsepower-binned</th>\n",
              "      <th>diesel</th>\n",
              "      <th>gas</th>\n",
              "    </tr>\n",
              "  </thead>\n",
              "  <tbody>\n",
              "    <tr>\n",
              "      <th>0</th>\n",
              "      <td>3</td>\n",
              "      <td>122</td>\n",
              "      <td>alfa-romero</td>\n",
              "      <td>std</td>\n",
              "      <td>two</td>\n",
              "      <td>convertible</td>\n",
              "      <td>rwd</td>\n",
              "      <td>front</td>\n",
              "      <td>88.6</td>\n",
              "      <td>0.811148</td>\n",
              "      <td>0.890278</td>\n",
              "      <td>48.8</td>\n",
              "      <td>2548</td>\n",
              "      <td>dohc</td>\n",
              "      <td>four</td>\n",
              "      <td>130</td>\n",
              "      <td>mpfi</td>\n",
              "      <td>3.47</td>\n",
              "      <td>2.68</td>\n",
              "      <td>9.0</td>\n",
              "      <td>111.0</td>\n",
              "      <td>5000.0</td>\n",
              "      <td>21</td>\n",
              "      <td>27</td>\n",
              "      <td>13495.0</td>\n",
              "      <td>11.190476</td>\n",
              "      <td>Medium</td>\n",
              "      <td>0</td>\n",
              "      <td>1</td>\n",
              "    </tr>\n",
              "    <tr>\n",
              "      <th>1</th>\n",
              "      <td>3</td>\n",
              "      <td>122</td>\n",
              "      <td>alfa-romero</td>\n",
              "      <td>std</td>\n",
              "      <td>two</td>\n",
              "      <td>convertible</td>\n",
              "      <td>rwd</td>\n",
              "      <td>front</td>\n",
              "      <td>88.6</td>\n",
              "      <td>0.811148</td>\n",
              "      <td>0.890278</td>\n",
              "      <td>48.8</td>\n",
              "      <td>2548</td>\n",
              "      <td>dohc</td>\n",
              "      <td>four</td>\n",
              "      <td>130</td>\n",
              "      <td>mpfi</td>\n",
              "      <td>3.47</td>\n",
              "      <td>2.68</td>\n",
              "      <td>9.0</td>\n",
              "      <td>111.0</td>\n",
              "      <td>5000.0</td>\n",
              "      <td>21</td>\n",
              "      <td>27</td>\n",
              "      <td>16500.0</td>\n",
              "      <td>11.190476</td>\n",
              "      <td>Medium</td>\n",
              "      <td>0</td>\n",
              "      <td>1</td>\n",
              "    </tr>\n",
              "    <tr>\n",
              "      <th>2</th>\n",
              "      <td>1</td>\n",
              "      <td>122</td>\n",
              "      <td>alfa-romero</td>\n",
              "      <td>std</td>\n",
              "      <td>two</td>\n",
              "      <td>hatchback</td>\n",
              "      <td>rwd</td>\n",
              "      <td>front</td>\n",
              "      <td>94.5</td>\n",
              "      <td>0.822681</td>\n",
              "      <td>0.909722</td>\n",
              "      <td>52.4</td>\n",
              "      <td>2823</td>\n",
              "      <td>ohcv</td>\n",
              "      <td>six</td>\n",
              "      <td>152</td>\n",
              "      <td>mpfi</td>\n",
              "      <td>2.68</td>\n",
              "      <td>3.47</td>\n",
              "      <td>9.0</td>\n",
              "      <td>154.0</td>\n",
              "      <td>5000.0</td>\n",
              "      <td>19</td>\n",
              "      <td>26</td>\n",
              "      <td>16500.0</td>\n",
              "      <td>12.368421</td>\n",
              "      <td>Medium</td>\n",
              "      <td>0</td>\n",
              "      <td>1</td>\n",
              "    </tr>\n",
              "    <tr>\n",
              "      <th>3</th>\n",
              "      <td>2</td>\n",
              "      <td>164</td>\n",
              "      <td>audi</td>\n",
              "      <td>std</td>\n",
              "      <td>four</td>\n",
              "      <td>sedan</td>\n",
              "      <td>fwd</td>\n",
              "      <td>front</td>\n",
              "      <td>99.8</td>\n",
              "      <td>0.848630</td>\n",
              "      <td>0.919444</td>\n",
              "      <td>54.3</td>\n",
              "      <td>2337</td>\n",
              "      <td>ohc</td>\n",
              "      <td>four</td>\n",
              "      <td>109</td>\n",
              "      <td>mpfi</td>\n",
              "      <td>3.19</td>\n",
              "      <td>3.40</td>\n",
              "      <td>10.0</td>\n",
              "      <td>102.0</td>\n",
              "      <td>5500.0</td>\n",
              "      <td>24</td>\n",
              "      <td>30</td>\n",
              "      <td>13950.0</td>\n",
              "      <td>9.791667</td>\n",
              "      <td>Medium</td>\n",
              "      <td>0</td>\n",
              "      <td>1</td>\n",
              "    </tr>\n",
              "    <tr>\n",
              "      <th>4</th>\n",
              "      <td>2</td>\n",
              "      <td>164</td>\n",
              "      <td>audi</td>\n",
              "      <td>std</td>\n",
              "      <td>four</td>\n",
              "      <td>sedan</td>\n",
              "      <td>4wd</td>\n",
              "      <td>front</td>\n",
              "      <td>99.4</td>\n",
              "      <td>0.848630</td>\n",
              "      <td>0.922222</td>\n",
              "      <td>54.3</td>\n",
              "      <td>2824</td>\n",
              "      <td>ohc</td>\n",
              "      <td>five</td>\n",
              "      <td>136</td>\n",
              "      <td>mpfi</td>\n",
              "      <td>3.19</td>\n",
              "      <td>3.40</td>\n",
              "      <td>8.0</td>\n",
              "      <td>115.0</td>\n",
              "      <td>5500.0</td>\n",
              "      <td>18</td>\n",
              "      <td>22</td>\n",
              "      <td>17450.0</td>\n",
              "      <td>13.055556</td>\n",
              "      <td>Medium</td>\n",
              "      <td>0</td>\n",
              "      <td>1</td>\n",
              "    </tr>\n",
              "  </tbody>\n",
              "</table>\n",
              "</div>"
            ],
            "text/plain": [
              "   symboling  normalized-losses         make  ... horsepower-binned diesel gas\n",
              "0          3                122  alfa-romero  ...            Medium      0   1\n",
              "1          3                122  alfa-romero  ...            Medium      0   1\n",
              "2          1                122  alfa-romero  ...            Medium      0   1\n",
              "3          2                164         audi  ...            Medium      0   1\n",
              "4          2                164         audi  ...            Medium      0   1\n",
              "\n",
              "[5 rows x 29 columns]"
            ]
          },
          "metadata": {
            "tags": []
          },
          "execution_count": 83
        }
      ]
    },
    {
      "cell_type": "markdown",
      "metadata": {
        "id": "9WLMMryBQ99-",
        "colab_type": "text"
      },
      "source": [
        "## Regressão linear\n",
        "\n",
        "É algoritmo preditivo capaz de encontrar uma relação entre duas ou mais variáveis, o modelo basicamente ajusta uma equação linear entre os dados observados.\n",
        "- Variável preditora **x** \n",
        "- Variável dependente do destino **y**\n",
        "\n",
        "O resultado da regressão linear é uma **função linear** que prediz a variável resposta (dependente) como uma função da variável preditor (independente).\n",
        "\n",
        "Função linear:\n",
        "\n",
        "$Y = a + b X$\n",
        "\n",
        "**a** refere-se à interceptação da linha de regressão em outras palavras: o valor de **Y** quando X é 0\n",
        "\n",
        "**b** se refere à inclinação da reta de regressão, em outras palavras: o valor com o qual **Y** muda quando **X** aumenta em 1 unidade"
      ]
    },
    {
      "cell_type": "markdown",
      "metadata": {
        "id": "Pi7L7m2cTV1Z",
        "colab_type": "text"
      },
      "source": [
        "### Biblioteca"
      ]
    },
    {
      "cell_type": "code",
      "metadata": {
        "id": "NMXvNwj4Q9hw",
        "colab_type": "code",
        "colab": {}
      },
      "source": [
        "from sklearn.linear_model import LinearRegression\n",
        "\n",
        "# Criando o objeto regressão linear\n",
        "lr = LinearRegression()"
      ],
      "execution_count": 84,
      "outputs": []
    },
    {
      "cell_type": "markdown",
      "metadata": {
        "id": "u-uY5hYwT_Jp",
        "colab_type": "text"
      },
      "source": [
        "### Exemplos \n",
        "\n",
        "#### Ex 1.:\n",
        "Queremos ver como o highway-mpg pode nos ajudar a prever o preço do carro. Usando regressão linear simples, criaremos uma função linear com \"highway-mpg\" como variável preditora e \"price\" como variável de resposta."
      ]
    },
    {
      "cell_type": "code",
      "metadata": {
        "id": "IFvTC6CuVaBp",
        "colab_type": "code",
        "colab": {}
      },
      "source": [
        "X = data[['highway-mpg']]\n",
        "Y = data[['price']]"
      ],
      "execution_count": 85,
      "outputs": []
    },
    {
      "cell_type": "markdown",
      "metadata": {
        "id": "aVyrl1JoVUZb",
        "colab_type": "text"
      },
      "source": [
        "Ajustando o modelo para variável **highway-mpg**"
      ]
    },
    {
      "cell_type": "code",
      "metadata": {
        "id": "dE1c7i-OV2iA",
        "colab_type": "code",
        "colab": {
          "base_uri": "https://localhost:8080/",
          "height": 34
        },
        "outputId": "e2e54f8c-b335-4213-857c-1f3eb201c151"
      },
      "source": [
        "lr.fit(X,Y)"
      ],
      "execution_count": 86,
      "outputs": [
        {
          "output_type": "execute_result",
          "data": {
            "text/plain": [
              "LinearRegression(copy_X=True, fit_intercept=True, n_jobs=None, normalize=False)"
            ]
          },
          "metadata": {
            "tags": []
          },
          "execution_count": 86
        }
      ]
    },
    {
      "cell_type": "markdown",
      "metadata": {
        "id": "0-qtw7Z7YMzj",
        "colab_type": "text"
      },
      "source": [
        "Podemos analisar algumas caracteríticas como o preditor, a intercepção e a inclinação.\n",
        "\n",
        "**Preditor**"
      ]
    },
    {
      "cell_type": "code",
      "metadata": {
        "id": "7q20TK65WtaZ",
        "colab_type": "code",
        "colab": {
          "base_uri": "https://localhost:8080/",
          "height": 68
        },
        "outputId": "866e75e1-adac-4494-cc0c-a961ced05efc"
      },
      "source": [
        "y = lr.predict(X)\n",
        "y[:3]"
      ],
      "execution_count": 87,
      "outputs": [
        {
          "output_type": "execute_result",
          "data": {
            "text/plain": [
              "array([[16236.50464347],\n",
              "       [16236.50464347],\n",
              "       [17058.23802179]])"
            ]
          },
          "metadata": {
            "tags": []
          },
          "execution_count": 87
        }
      ]
    },
    {
      "cell_type": "markdown",
      "metadata": {
        "id": "T_2WydnNZCg9",
        "colab_type": "text"
      },
      "source": [
        "**Intercepção** (a)"
      ]
    },
    {
      "cell_type": "code",
      "metadata": {
        "id": "fxJ_eXFxWxeT",
        "colab_type": "code",
        "colab": {
          "base_uri": "https://localhost:8080/",
          "height": 34
        },
        "outputId": "25e65a8b-8dd8-4973-defc-40b8d53f2c21"
      },
      "source": [
        "lr.intercept_"
      ],
      "execution_count": 88,
      "outputs": [
        {
          "output_type": "execute_result",
          "data": {
            "text/plain": [
              "array([38423.30585816])"
            ]
          },
          "metadata": {
            "tags": []
          },
          "execution_count": 88
        }
      ]
    },
    {
      "cell_type": "markdown",
      "metadata": {
        "id": "tAuu12d9ZGBw",
        "colab_type": "text"
      },
      "source": [
        "**Inclinação** (b)"
      ]
    },
    {
      "cell_type": "code",
      "metadata": {
        "id": "W4P4e3f5Y-Rq",
        "colab_type": "code",
        "colab": {
          "base_uri": "https://localhost:8080/",
          "height": 34
        },
        "outputId": "abb6aef2-0b39-4823-996d-beabef8c9108"
      },
      "source": [
        "lr.coef_"
      ],
      "execution_count": 89,
      "outputs": [
        {
          "output_type": "execute_result",
          "data": {
            "text/plain": [
              "array([[-821.73337832]])"
            ]
          },
          "metadata": {
            "tags": []
          },
          "execution_count": 89
        }
      ]
    },
    {
      "cell_type": "markdown",
      "metadata": {
        "id": "j6JiwzrqZkTL",
        "colab_type": "text"
      },
      "source": [
        "### Qual é o modelo linear estimado final que obtemos?\n",
        "Como vimos acima, devemos obter um modelo linear final com a estrutura:\n",
        "\n",
        "$\n",
        "Y = a + b X\n",
        "$\n",
        "\n",
        "Conectando os valores reais que obtemos:\n",
        "\n",
        "$a = 38423.31$\n",
        "\n",
        "$b = - 821,73$\n",
        "\n",
        "$Y = price$\n",
        "\n",
        "$X = highway-mpg$\n",
        "\n",
        "Substituindo: \n",
        "\n",
        "$Y = a + b X$\n",
        "\n",
        "$price = 38423.31 + (- 821,73 * highway-mpg)$ "
      ]
    },
    {
      "cell_type": "markdown",
      "metadata": {
        "id": "KVHksM2Wcfq8",
        "colab_type": "text"
      },
      "source": [
        "##  Regresão Linear Múltipla\n",
        "\n",
        "É muito semelhante à regressão linear simples, mas esse método é usado para explicar a relação entre uma variável de resposta contínua (dependente) e duas ou mais variáveis ​​preditoras (independentes). A maioria dos modelos de regressão do mundo real envolve múltiplos preditores.\n",
        "\n",
        "Função Linear Múltipla:\n",
        "\n",
        "$Y = a + b_1 X_1 + b_2X_2+ b_3X_3+...+b_nX_n$\n"
      ]
    },
    {
      "cell_type": "markdown",
      "metadata": {
        "id": "E7C7LcM3d-E6",
        "colab_type": "text"
      },
      "source": [
        "### Exemplo :\n",
        " Vamos desenvolver um modelo utilizando 4 variáveis ​​preditivas, que são boas variáveis Preditivas, no qual foram observadas no Notebook de Analise Exploratória de dados:\n",
        "\n",
        "1. Horsepower\n",
        "2. Curb-weight\n",
        "3. Engine-size\n",
        "4. Highway-mpg\n"
      ]
    },
    {
      "cell_type": "code",
      "metadata": {
        "id": "65A2p9BLRp4w",
        "colab_type": "code",
        "colab": {}
      },
      "source": [
        "Z = data[['horsepower', 'curb-weight', 'engine-size', 'highway-mpg']]\n",
        "X = data['price']"
      ],
      "execution_count": 90,
      "outputs": []
    },
    {
      "cell_type": "markdown",
      "metadata": {
        "id": "hNl_pC0Vf20R",
        "colab_type": "text"
      },
      "source": [
        "Ajustando o modelo para a variável **'price'**"
      ]
    },
    {
      "cell_type": "code",
      "metadata": {
        "id": "4jajIJj_gBNX",
        "colab_type": "code",
        "colab": {
          "base_uri": "https://localhost:8080/",
          "height": 34
        },
        "outputId": "8ccd9550-1d4c-4a3d-fbd8-2442503a31b6"
      },
      "source": [
        "lr.fit(Z,X)"
      ],
      "execution_count": 91,
      "outputs": [
        {
          "output_type": "execute_result",
          "data": {
            "text/plain": [
              "LinearRegression(copy_X=True, fit_intercept=True, n_jobs=None, normalize=False)"
            ]
          },
          "metadata": {
            "tags": []
          },
          "execution_count": 91
        }
      ]
    },
    {
      "cell_type": "markdown",
      "metadata": {
        "id": "htaoGuEYf9uS",
        "colab_type": "text"
      },
      "source": [
        "Podemos analisar algumas caracteríticas como o preditor, a intercepção e a inclinação.\n",
        "\n",
        "**Preditor**"
      ]
    },
    {
      "cell_type": "code",
      "metadata": {
        "id": "SOze5770gneD",
        "colab_type": "code",
        "colab": {
          "base_uri": "https://localhost:8080/",
          "height": 34
        },
        "outputId": "91bcae89-88e0-4b25-a06a-bf3f4ca22754"
      },
      "source": [
        " y = lr.predict(Z)\n",
        " y[:3]"
      ],
      "execution_count": 92,
      "outputs": [
        {
          "output_type": "execute_result",
          "data": {
            "text/plain": [
              "array([13699.11161184, 13699.11161184, 19051.65470233])"
            ]
          },
          "metadata": {
            "tags": []
          },
          "execution_count": 92
        }
      ]
    },
    {
      "cell_type": "markdown",
      "metadata": {
        "id": "1AIlpc5Xgn_G",
        "colab_type": "text"
      },
      "source": [
        "**Intercepção** $(a)$"
      ]
    },
    {
      "cell_type": "code",
      "metadata": {
        "id": "a2h4ksYdgwhK",
        "colab_type": "code",
        "colab": {
          "base_uri": "https://localhost:8080/",
          "height": 34
        },
        "outputId": "ed23aeef-b3e3-46c0-e34b-dcd8019fab40"
      },
      "source": [
        "lr.intercept_"
      ],
      "execution_count": 93,
      "outputs": [
        {
          "output_type": "execute_result",
          "data": {
            "text/plain": [
              "-15806.62462632922"
            ]
          },
          "metadata": {
            "tags": []
          },
          "execution_count": 93
        }
      ]
    },
    {
      "cell_type": "markdown",
      "metadata": {
        "id": "rouOzIZtgxGs",
        "colab_type": "text"
      },
      "source": [
        "**Inclinação** $(b_1,b_2,b_3,b_4)$"
      ]
    },
    {
      "cell_type": "code",
      "metadata": {
        "id": "fw3AQW56hQ60",
        "colab_type": "code",
        "colab": {
          "base_uri": "https://localhost:8080/",
          "height": 34
        },
        "outputId": "aa580d20-9908-49fe-d9fc-efad03882147"
      },
      "source": [
        "lr.coef_"
      ],
      "execution_count": 94,
      "outputs": [
        {
          "output_type": "execute_result",
          "data": {
            "text/plain": [
              "array([53.49574423,  4.70770099, 81.53026382, 36.05748882])"
            ]
          },
          "metadata": {
            "tags": []
          },
          "execution_count": 94
        }
      ]
    },
    {
      "cell_type": "markdown",
      "metadata": {
        "id": "JIhMcjyBhg5f",
        "colab_type": "text"
      },
      "source": [
        "### Qual é o modelo linear estimado final que obtemos?\n",
        "Como vimos acima, devemos obter um modelo linear final com a estrutura:\n",
        "\n",
        "\n",
        "$Y = a + b_1 X_1 + b_2X_2+ b_3X_3+b_4X_4$\n",
        "\n",
        "\n",
        "Conectando os valores reais que obtemos:\n",
        "\n",
        "$a = -15806.62462632922 $\n",
        "\n",
        "$b_1 = 53.49574423$\n",
        "\n",
        "$b_2 =  4.70770099$\n",
        "\n",
        "$b_3 = 81.53026382$\n",
        "\n",
        "$b_4 = 36.05748882$\n",
        "\n",
        "\n",
        "$Y = price$\n",
        "\n",
        "$ x_1 = horsepower $ \n",
        "\n",
        "$ x_2 = curb-weight $\n",
        "\n",
        "$ x_3 = engine-size $\n",
        "\n",
        "$ x_4 = highway-mpg $\n",
        "\n",
        "### Substituindo: \n",
        "\n",
        "$Y = a + b_1 X_1 + b_2X_2+ b_3X_3+b_4X_4$\n",
        "\n",
        "$price = -15806.62462632922 + (53.49574423 * horsepower) + (4.70770099 * curb-weight) + (81.53026382 * engine-size) + (36.05748882 * highway-mpg)$ "
      ]
    },
    {
      "cell_type": "markdown",
      "metadata": {
        "id": "ooKyeUUWkSO7",
        "colab_type": "text"
      },
      "source": [
        "## Avaliação do Modelo a partir de Visualização Gráfica "
      ]
    },
    {
      "cell_type": "markdown",
      "metadata": {
        "id": "Ladh4Kx8kzeX",
        "colab_type": "text"
      },
      "source": [
        "Agora que desenvolvemos alguns modelos, como avaliamos nossos modelos e como escolhemos o melhor? Uma maneira de fazer isso é usando a visualização."
      ]
    },
    {
      "cell_type": "markdown",
      "metadata": {
        "id": "TbJHMkxbk4v3",
        "colab_type": "text"
      },
      "source": [
        "### Importação da Biblioteca"
      ]
    },
    {
      "cell_type": "code",
      "metadata": {
        "id": "Ysia5jlfk4PF",
        "colab_type": "code",
        "colab": {}
      },
      "source": [
        "import seaborn as sns\n",
        "%matplotlib inline "
      ],
      "execution_count": 95,
      "outputs": []
    },
    {
      "cell_type": "markdown",
      "metadata": {
        "id": "tGmQnuMQlJxE",
        "colab_type": "text"
      },
      "source": [
        "### Gráfico de Regressão\n",
        "\n",
        "Quando se trata de regressão linear simples, uma excelente maneira de visualizar o ajuste do nosso modelo é usando gráficos de regressão .\n",
        "\n",
        "Este gráfico mostrará:\n",
        " * uma combinação de pontos de dados dispersos (um gráfico de dispersão ); \n",
        " *  a linha de regressão linear ajustada que passa pelos dados.\n",
        " \n",
        "Isso nos fornecerá uma estimativa razoável da relação entre\n",
        "*  as duas variáveis;\n",
        "*  a força da correlação;\n",
        "*  direção (correlação positiva ou negativa)."
      ]
    },
    {
      "cell_type": "markdown",
      "metadata": {
        "id": "OkxvpPgbo2f6",
        "colab_type": "text"
      },
      "source": [
        "### Exemplos:\n",
        "\n",
        "EX 1.:Vamos visualizar highway-mpg como variável preditora potencial de price:"
      ]
    },
    {
      "cell_type": "code",
      "metadata": {
        "id": "rLKEOO7Zx-92",
        "colab_type": "code",
        "colab": {}
      },
      "source": [
        "largura = 12\n",
        "altura = 10"
      ],
      "execution_count": 96,
      "outputs": []
    },
    {
      "cell_type": "code",
      "metadata": {
        "id": "DGxY_YkPhU5V",
        "colab_type": "code",
        "colab": {
          "base_uri": "https://localhost:8080/",
          "height": 623
        },
        "outputId": "bc561654-d970-4682-aeb9-40e73da464a1"
      },
      "source": [
        "plt.figure(figsize=(largura,altura))\n",
        "sns.regplot(x='highway-mpg',y='price', data=data)"
      ],
      "execution_count": 97,
      "outputs": [
        {
          "output_type": "execute_result",
          "data": {
            "text/plain": [
              "<matplotlib.axes._subplots.AxesSubplot at 0x7fc9333a1e48>"
            ]
          },
          "metadata": {
            "tags": []
          },
          "execution_count": 97
        },
        {
          "output_type": "display_data",
          "data": {
            "image/png": "[encoded data removed]",
            "text/plain": [
              "<Figure size 864x720 with 1 Axes>"
            ]
          },
          "metadata": {
            "tags": [],
            "needs_background": "light"
          }
        }
      ]
    },
    {
      "cell_type": "markdown",
      "metadata": {
        "id": "pKcB6GoMnrZO",
        "colab_type": "text"
      },
      "source": [
        "Vamos verificar a correlação :"
      ]
    },
    {
      "cell_type": "code",
      "metadata": {
        "id": "fhuIze2UmyFp",
        "colab_type": "code",
        "colab": {
          "base_uri": "https://localhost:8080/",
          "height": 111
        },
        "outputId": "1180f7b6-bf6d-4ccd-9b5c-6fcd80fc13e4"
      },
      "source": [
        "data[['highway-mpg','price']].corr()"
      ],
      "execution_count": 98,
      "outputs": [
        {
          "output_type": "execute_result",
          "data": {
            "text/html": [
              "<div>\n",
              "<style scoped>\n",
              "    .dataframe tbody tr th:only-of-type {\n",
              "        vertical-align: middle;\n",
              "    }\n",
              "\n",
              "    .dataframe tbody tr th {\n",
              "        vertical-align: top;\n",
              "    }\n",
              "\n",
              "    .dataframe thead th {\n",
              "        text-align: right;\n",
              "    }\n",
              "</style>\n",
              "<table border=\"1\" class=\"dataframe\">\n",
              "  <thead>\n",
              "    <tr style=\"text-align: right;\">\n",
              "      <th></th>\n",
              "      <th>highway-mpg</th>\n",
              "      <th>price</th>\n",
              "    </tr>\n",
              "  </thead>\n",
              "  <tbody>\n",
              "    <tr>\n",
              "      <th>highway-mpg</th>\n",
              "      <td>1.000000</td>\n",
              "      <td>-0.704692</td>\n",
              "    </tr>\n",
              "    <tr>\n",
              "      <th>price</th>\n",
              "      <td>-0.704692</td>\n",
              "      <td>1.000000</td>\n",
              "    </tr>\n",
              "  </tbody>\n",
              "</table>\n",
              "</div>"
            ],
            "text/plain": [
              "             highway-mpg     price\n",
              "highway-mpg     1.000000 -0.704692\n",
              "price          -0.704692  1.000000"
            ]
          },
          "metadata": {
            "tags": []
          },
          "execution_count": 98
        }
      ]
    },
    {
      "cell_type": "markdown",
      "metadata": {
        "id": "zQ3B0flSoDoB",
        "colab_type": "text"
      },
      "source": [
        "Podemos ver neste gráfico que o price está correlacionado negativamente com a highway-mpg, uma vez que a inclinação da regressão é negativa.\n",
        "\n",
        "Uma coisa importante é  analisar um gráfico de regressão é prestar atenção à dispersão dos pontos de dados ao redor da linha de regressão. Isso fornecerá uma boa indicação da variação dos dados e se um modelo linear seria o mais adequado ou não.\n",
        " \n",
        "Se os dados estiverem muito distantes da linha, esse modelo linear pode não ser o melhor modelo para esses dados. "
      ]
    },
    {
      "cell_type": "markdown",
      "metadata": {
        "id": "YUlC65UAo7zY",
        "colab_type": "text"
      },
      "source": [
        "EX 2.:   Vamos comparar esse gráfico com o gráfico de regressão de \"peak-rpm\"."
      ]
    },
    {
      "cell_type": "code",
      "metadata": {
        "id": "Ov0sZh0Qn7UO",
        "colab_type": "code",
        "colab": {
          "base_uri": "https://localhost:8080/",
          "height": 623
        },
        "outputId": "68000df8-329f-46d8-db8a-40024b95977c"
      },
      "source": [
        "plt.figure(figsize=(largura,altura))\n",
        "sns.regplot(x='peak-rpm',y='price', data=data)"
      ],
      "execution_count": 99,
      "outputs": [
        {
          "output_type": "execute_result",
          "data": {
            "text/plain": [
              "<matplotlib.axes._subplots.AxesSubplot at 0x7fc933319470>"
            ]
          },
          "metadata": {
            "tags": []
          },
          "execution_count": 99
        },
        {
          "output_type": "display_data",
          "data": {
            "image/png": "[encoded data removed]",
            "text/plain": [
              "<Figure size 864x720 with 1 Axes>"
            ]
          },
          "metadata": {
            "tags": [],
            "needs_background": "light"
          }
        }
      ]
    },
    {
      "cell_type": "code",
      "metadata": {
        "id": "JaM0u1Dmxv6P",
        "colab_type": "code",
        "colab": {
          "base_uri": "https://localhost:8080/",
          "height": 111
        },
        "outputId": "194f244c-c366-4939-870c-a8818a1c6c0e"
      },
      "source": [
        "data[['peak-rpm','price']].corr()\n"
      ],
      "execution_count": 100,
      "outputs": [
        {
          "output_type": "execute_result",
          "data": {
            "text/html": [
              "<div>\n",
              "<style scoped>\n",
              "    .dataframe tbody tr th:only-of-type {\n",
              "        vertical-align: middle;\n",
              "    }\n",
              "\n",
              "    .dataframe tbody tr th {\n",
              "        vertical-align: top;\n",
              "    }\n",
              "\n",
              "    .dataframe thead th {\n",
              "        text-align: right;\n",
              "    }\n",
              "</style>\n",
              "<table border=\"1\" class=\"dataframe\">\n",
              "  <thead>\n",
              "    <tr style=\"text-align: right;\">\n",
              "      <th></th>\n",
              "      <th>peak-rpm</th>\n",
              "      <th>price</th>\n",
              "    </tr>\n",
              "  </thead>\n",
              "  <tbody>\n",
              "    <tr>\n",
              "      <th>peak-rpm</th>\n",
              "      <td>1.000000</td>\n",
              "      <td>-0.101616</td>\n",
              "    </tr>\n",
              "    <tr>\n",
              "      <th>price</th>\n",
              "      <td>-0.101616</td>\n",
              "      <td>1.000000</td>\n",
              "    </tr>\n",
              "  </tbody>\n",
              "</table>\n",
              "</div>"
            ],
            "text/plain": [
              "          peak-rpm     price\n",
              "peak-rpm  1.000000 -0.101616\n",
              "price    -0.101616  1.000000"
            ]
          },
          "metadata": {
            "tags": []
          },
          "execution_count": 100
        }
      ]
    },
    {
      "cell_type": "markdown",
      "metadata": {
        "id": "ADJbGNezyzeS",
        "colab_type": "text"
      },
      "source": [
        "Comparando o gráfico de regressão de \"peak-rpm\" e \"highway-mpg\", vemos que os pontos para \"highway-mpg\" estão muito mais próximos da linha gerada. Os pontos para \"peak-rpm\" se espalham mais pela linha prevista e é muito mais difícil determinar se os pontos estão diminuindo ou aumentando à medida que o \"highway-mpg\" aumenta."
      ]
    },
    {
      "cell_type": "markdown",
      "metadata": {
        "id": "HEuG7MTCzLQC",
        "colab_type": "text"
      },
      "source": [
        "### Gráfico Residual\n",
        "\n",
        "Uma boa visualização gráfica é utilizando gráfico residual. \n",
        "\n",
        "#### O que é um resíduo ?\n",
        "\n",
        "A diferença entre o valor observado (y) e o valor previsto (F(x)) é chamada de residual (e). Quando olhamos para um gráfico de regressão, o residual é a distância do ponto de dados até a linha de regressão ajustada.\n",
        "\n",
        "$e = Y - F(x)$\n",
        "\n",
        "#### Então, o que é um gráfico residual ?\n",
        "\n",
        "Um gráfico de resíduos é um gráfico que mostra os resíduos no eixo y vertical e a variável independente no eixo x horizontal.\n",
        "\n",
        "#### A que prestamos atenção quando observamos um gráfico residual?\n",
        "\n",
        "Observamos a dispersão dos resíduos:\n",
        "\n",
        " Se os pontos em um gráfico residual são distribuídos aleatoriamente ao redor do eixo x , um modelo linear é apropriado para os dados.\n",
        "\n",
        " Os resíduos distribuídos aleatoriamente significam que a variação é constante e, portanto, o modelo linear é um bom ajuste para esses dados.\n",
        "\n",
        "\n",
        "\n",
        " Exemplo.:\n",
        "\n",
        " Vamos analizar as variáveis price e highway-mpg"
      ]
    },
    {
      "cell_type": "code",
      "metadata": {
        "id": "-rnVKPCg1td4",
        "colab_type": "code",
        "colab": {
          "base_uri": "https://localhost:8080/",
          "height": 623
        },
        "outputId": "bf7d9b44-81c8-4668-e498-d219b683ddac"
      },
      "source": [
        "plt.figure(figsize=(largura, altura))\n",
        "sns.residplot(x='highway-mpg',y='price',data=data)"
      ],
      "execution_count": 101,
      "outputs": [
        {
          "output_type": "execute_result",
          "data": {
            "text/plain": [
              "<matplotlib.axes._subplots.AxesSubplot at 0x7fc933284240>"
            ]
          },
          "metadata": {
            "tags": []
          },
          "execution_count": 101
        },
        {
          "output_type": "display_data",
          "data": {
            "image/png": "[encoded data removed]",
            "text/plain": [
              "<Figure size 864x720 with 1 Axes>"
            ]
          },
          "metadata": {
            "tags": [],
            "needs_background": "light"
          }
        }
      ]
    },
    {
      "cell_type": "markdown",
      "metadata": {
        "id": "8rs8o4QK2HbZ",
        "colab_type": "text"
      },
      "source": [
        "O que este gráfico nos diz?\n",
        "\n",
        "Podemos ver a partir desse gráfico residual que os resíduos não estão espalhados aleatoriamente ao redor do eixo x, o que nos leva a acreditar que talvez um modelo não linear seja mais apropriado para esses dados."
      ]
    },
    {
      "cell_type": "markdown",
      "metadata": {
        "id": "cQNbJ_g1201k",
        "colab_type": "text"
      },
      "source": [
        "### Gráfico de Distribuição\n",
        "\n",
        "O gráfico de distribuição é utilizado para visualização de Regresão Linear Múltipla, porque não pode ser visualizado com os gráficos anteriores.\n",
        "Com o gráfico de distribuição : Podemos observar a distribuição dos valores ajustados que resultam do modelo e compará-lo com a distribuição dos valores reais."
      ]
    },
    {
      "cell_type": "markdown",
      "metadata": {
        "id": "FdhHxb0z4M0h",
        "colab_type": "text"
      },
      "source": [
        "Primeiro vamos previsão "
      ]
    },
    {
      "cell_type": "code",
      "metadata": {
        "id": "VVnklVYz2Aou",
        "colab_type": "code",
        "colab": {
          "base_uri": "https://localhost:8080/",
          "height": 34
        },
        "outputId": "dac9359f-c148-4495-f966-f705179d5b86"
      },
      "source": [
        "f_x = lr.predict(Z)\n",
        "f_x[:3]"
      ],
      "execution_count": 102,
      "outputs": [
        {
          "output_type": "execute_result",
          "data": {
            "text/plain": [
              "array([13699.11161184, 13699.11161184, 19051.65470233])"
            ]
          },
          "metadata": {
            "tags": []
          },
          "execution_count": 102
        }
      ]
    },
    {
      "cell_type": "code",
      "metadata": {
        "id": "wJL4xddd4eoC",
        "colab_type": "code",
        "colab": {
          "base_uri": "https://localhost:8080/",
          "height": 622
        },
        "outputId": "ae77990a-671c-4a8b-c122-0b8ca41591b0"
      },
      "source": [
        "plt.figure(figsize=(largura, altura))\n",
        "\n",
        "ax1 = sns.distplot(data['price'], hist=False, color=\"green\", label=\"valor atual\")\n",
        "\n",
        "sns.distplot(f_x, hist=False, color=\"black\", label=\"valor ajustado\" , ax=ax1)\n",
        "\n",
        "plt.title('Atual vs Valores ajustados para preço')\n",
        "plt.xlabel('Preço (em doláres)')\n",
        "plt.ylabel('Propoção de carros')\n",
        "\n",
        "plt.show()\n",
        "plt.close()"
      ],
      "execution_count": 103,
      "outputs": [
        {
          "output_type": "display_data",
          "data": {
            "image/png": "[encoded data removed]",
            "text/plain": [
              "<Figure size 864x720 with 1 Axes>"
            ]
          },
          "metadata": {
            "tags": [],
            "needs_background": "light"
          }
        }
      ]
    },
    {
      "cell_type": "markdown",
      "metadata": {
        "id": "2r2YwL4g6Bb5",
        "colab_type": "text"
      },
      "source": [
        "Podemos ver que os valores ajustados estão razoavelmente próximos dos valores reais, pois as duas distribuições se sobrepõem um pouco. No entanto, há definitivamente algum espaço para melhorias."
      ]
    },
    {
      "cell_type": "markdown",
      "metadata": {
        "id": "mGry--q96eDh",
        "colab_type": "text"
      },
      "source": [
        "## Regressão Polinomial \n",
        "\n",
        "A regressão polinomial é um caso particular do modelo de regressão linear geral ou de vários modelos de regressão linear.\n",
        "\n",
        "Obtemos relacionamentos não lineares ao quadrado ou ao definir termos de ordem superior das variáveis ​​preditoras.\n",
        "\n",
        "Existem diferentes ordens de regressão polinomial:\n",
        "\n",
        "\n",
        "$E=a+b_1X^2+b_2X^2+b_3X^3+...+b_nX^n$\n",
        "\n",
        "Vimos anteriormente que um modelo linear não fornecia o melhor ajuste ao usar highway-mpg como variável preditora. Vamos ver se podemos tentar ajustar um modelo polinomial aos dados.\n",
        "\n",
        "Usaremos a seguinte função para plotar os dados:"
      ]
    },
    {
      "cell_type": "code",
      "metadata": {
        "id": "sJt83niQpNiu",
        "colab_type": "code",
        "colab": {
          "base_uri": "https://localhost:8080/",
          "height": 85
        },
        "outputId": "ca73df31-1254-413a-c72c-c7a686ef8cb9"
      },
      "source": [
        "maximo = data[['highway-mpg']].max()\n",
        "minimo = data[['highway-mpg']].min()\n",
        "print(\"Máximo \",maximo)\n",
        "print(\"Mínimo \",minimo)"
      ],
      "execution_count": 104,
      "outputs": [
        {
          "output_type": "stream",
          "text": [
            "Máximo  highway-mpg    54\n",
            "dtype: int64\n",
            "Mínimo  highway-mpg    16\n",
            "dtype: int64\n"
          ],
          "name": "stdout"
        }
      ]
    },
    {
      "cell_type": "code",
      "metadata": {
        "id": "lOHEI0Vj5t4f",
        "colab_type": "code",
        "colab": {}
      },
      "source": [
        "def PlotPolly(model, x, y, nome):\n",
        "    #Intervalo baseado no valor minimo e maximo da coluna 'highway-mpg'\n",
        "    x_new = np.linspace(15, 55, 100)\n",
        "  \n",
        "    #Aplica a função polinomial nós pontos criados em x\n",
        "    y_new = model(x_new)\n",
        "  \n",
        "    plt.plot(x, y, '.', x_new, y_new, '-')\n",
        "   \n",
        "   #Legendas\n",
        "    plt.title('Ajuste Polinomial ')\n",
        "    plt.xlabel(nome)\n",
        "    plt.ylabel('Preços dos carros')\n",
        "\n",
        "    ax = plt.gca()\n",
        "    ax.set_facecolor((0.898, 0.898, 0.898))\n",
        "    plt.gcf()\n",
        "    \n",
        "\n",
        "    plt.show()\n",
        "    plt.close()"
      ],
      "execution_count": 105,
      "outputs": []
    },
    {
      "cell_type": "markdown",
      "metadata": {
        "id": "pSjUHm1Ykk7H",
        "colab_type": "text"
      },
      "source": [
        "vamos utilizar as variáveis price e highway-mpg"
      ]
    },
    {
      "cell_type": "code",
      "metadata": {
        "id": "SkLxaAHQkvY3",
        "colab_type": "code",
        "colab": {}
      },
      "source": [
        "x = data['highway-mpg']\n",
        "y = data['price']"
      ],
      "execution_count": 106,
      "outputs": []
    },
    {
      "cell_type": "markdown",
      "metadata": {
        "id": "ffW3uFhQlAQC",
        "colab_type": "text"
      },
      "source": [
        "Vamos ajustar o polinômio usando a função polyfit  , depois usar a função poly1d para exibir a função polinomial, ambas funções da biblioteca Numpy."
      ]
    },
    {
      "cell_type": "code",
      "metadata": {
        "id": "LOvZptaGk6er",
        "colab_type": "code",
        "colab": {
          "base_uri": "https://localhost:8080/",
          "height": 51
        },
        "outputId": "345a85bf-851c-4f2f-d95f-bc1fb232e379"
      },
      "source": [
        "# como parametro passo os eixos e o grau da função \n",
        "func = np.polyfit(x,y,3)\n",
        "\n",
        "#Exibir\n",
        "\n",
        "exibir = np.poly1d(func)\n",
        "print(exibir)"
      ],
      "execution_count": 107,
      "outputs": [
        {
          "output_type": "stream",
          "text": [
            "        3         2\n",
            "-1.557 x + 204.8 x - 8965 x + 1.379e+05\n"
          ],
          "name": "stdout"
        }
      ]
    },
    {
      "cell_type": "code",
      "metadata": {
        "id": "MrT-3fK1lsml",
        "colab_type": "code",
        "colab": {
          "base_uri": "https://localhost:8080/",
          "height": 295
        },
        "outputId": "34133bca-d465-4407-8547-09670b425e92"
      },
      "source": [
        "PlotPolly(exibir, x, y, 'highway-mpg')"
      ],
      "execution_count": 108,
      "outputs": [
        {
          "output_type": "display_data",
          "data": {
            "image/png": "[encoded data removed]",
            "text/plain": [
              "<Figure size 432x288 with 1 Axes>"
            ]
          },
          "metadata": {
            "tags": [],
            "needs_background": "light"
          }
        }
      ]
    },
    {
      "cell_type": "markdown",
      "metadata": {
        "id": "ggdTi3Jso5mK",
        "colab_type": "text"
      },
      "source": [
        "Já podemos ver na plotagem que esse modelo polinomial tem um desempenho melhor que o modelo linear. Isso ocorre porque a função polinomial gerada \"atinge\" mais pontos de dados."
      ]
    },
    {
      "cell_type": "markdown",
      "metadata": {
        "id": "vVDvLTWarwyd",
        "colab_type": "text"
      },
      "source": [
        "#### Gere recursos polinomiais\n",
        "\n",
        "A expressão analítica da função polinomial multivariada fica complicada,  então devemos gerar uma nova matriz de recurso que consiste em todas as combinações polinomiais dos recursos com grau menor ou igual ao grau especificado. Ou seja,\n",
        "\n",
        "$$\n",
        "F(x) = a + b_1 X_1 +b_2 X_2 +b_3 X_1 X_2+b_4 X_1^2+b_5 X_2^2\n",
        "$$"
      ]
    },
    {
      "cell_type": "markdown",
      "metadata": {
        "id": "t_705hJxtPqF",
        "colab_type": "text"
      },
      "source": [
        "Podemos realizar uma transformação polinomial em vários recursos. Primeiro, importamos o módulo:"
      ]
    },
    {
      "cell_type": "code",
      "metadata": {
        "id": "ZCNxXgJAmMdK",
        "colab_type": "code",
        "colab": {}
      },
      "source": [
        "from sklearn.preprocessing import PolynomialFeatures"
      ],
      "execution_count": 109,
      "outputs": []
    },
    {
      "cell_type": "markdown",
      "metadata": {
        "id": "aqrDVilstfda",
        "colab_type": "text"
      },
      "source": [
        "Criamos um objeto PolynomialFeatures de grau 2, que por padrão é 2:"
      ]
    },
    {
      "cell_type": "code",
      "metadata": {
        "id": "XHqqNwf9tbhZ",
        "colab_type": "code",
        "colab": {
          "base_uri": "https://localhost:8080/",
          "height": 0
        },
        "outputId": "39f6856e-efbe-4962-84f8-5f18e083b8c6"
      },
      "source": [
        "pf = PolynomialFeatures()\n",
        "pf"
      ],
      "execution_count": 110,
      "outputs": [
        {
          "output_type": "execute_result",
          "data": {
            "text/plain": [
              "PolynomialFeatures(degree=2, include_bias=True, interaction_only=False,\n",
              "                   order='C')"
            ]
          },
          "metadata": {
            "tags": []
          },
          "execution_count": 110
        }
      ]
    },
    {
      "cell_type": "markdown",
      "metadata": {
        "id": "iTR--w7duDyF",
        "colab_type": "text"
      },
      "source": [
        "Ajustando os dados e depois transformando-os"
      ]
    },
    {
      "cell_type": "code",
      "metadata": {
        "id": "CPZH2QtQtsb6",
        "colab_type": "code",
        "colab": {}
      },
      "source": [
        "Z_pf = pf.fit_transform(Z)"
      ],
      "execution_count": 111,
      "outputs": []
    },
    {
      "cell_type": "code",
      "metadata": {
        "id": "v7qchv2Wu94N",
        "colab_type": "code",
        "colab": {
          "base_uri": "https://localhost:8080/",
          "height": 0
        },
        "outputId": "b6d199de-942a-41ae-9135-0ca2137db2d5"
      },
      "source": [
        "Z.shape"
      ],
      "execution_count": 112,
      "outputs": [
        {
          "output_type": "execute_result",
          "data": {
            "text/plain": [
              "(201, 4)"
            ]
          },
          "metadata": {
            "tags": []
          },
          "execution_count": 112
        }
      ]
    },
    {
      "cell_type": "markdown",
      "metadata": {
        "id": "kn9yaNS2u0RQ",
        "colab_type": "text"
      },
      "source": [
        "Os dados originais são de 201 amostras e 4 recursos"
      ]
    },
    {
      "cell_type": "code",
      "metadata": {
        "id": "edJL8xJuusZr",
        "colab_type": "code",
        "colab": {
          "base_uri": "https://localhost:8080/",
          "height": 0
        },
        "outputId": "819cdf28-8e65-4ae1-986d-651818eae248"
      },
      "source": [
        "Z_pf.shape"
      ],
      "execution_count": 113,
      "outputs": [
        {
          "output_type": "execute_result",
          "data": {
            "text/plain": [
              "(201, 15)"
            ]
          },
          "metadata": {
            "tags": []
          },
          "execution_count": 113
        }
      ]
    },
    {
      "cell_type": "markdown",
      "metadata": {
        "id": "Ql08-FwxvL-9",
        "colab_type": "text"
      },
      "source": [
        "após a transformação, há 201 amostras e 15 recursos."
      ]
    },
    {
      "cell_type": "markdown",
      "metadata": {
        "id": "6EN5zM0lx5Hn",
        "colab_type": "text"
      },
      "source": [
        "## Pipeline\n",
        "\n",
        "Os pipelines de dados permitem transformar dados de uma representação em outra através de uma série de etapas.\n",
        "Por outro lado, os pipelines apenas transformam os dados observados ( X )."
      ]
    },
    {
      "cell_type": "code",
      "metadata": {
        "id": "6pLuCVKBx341",
        "colab_type": "code",
        "colab": {}
      },
      "source": [
        ""
      ],
      "execution_count": 113,
      "outputs": []
    },
    {
      "cell_type": "code",
      "metadata": {
        "id": "wHb1sws2vJEO",
        "colab_type": "code",
        "colab": {}
      },
      "source": [
        ""
      ],
      "execution_count": 113,
      "outputs": []
    },
    {
      "cell_type": "markdown",
      "metadata": {
        "id": "23LJlO-bTAXX",
        "colab_type": "text"
      },
      "source": [
        "## Medidas para avaliação dentro da amostra\n",
        "\n",
        "Ao avaliar nossos modelos, queremos não apenas visualizar os resultados, mas também uma medida quantitativa para determinar a precisão do modelo.\n",
        "\n",
        "Duas medidas muito importantes que são frequentemente usadas no estatística para determinar a precisão de um modelo são:\n",
        "\n",
        "* $R^2 $ ou  R-squared\n",
        "\n",
        "* Mean Squared Error (MSE)\n",
        "\n",
        "#### **R-squared**\n",
        "\n",
        "\n",
        "R ao quadrado, também conhecido como coeficiente de determinação, é uma medida para indicar quão próximos os dados estão da linha de regressão ajustada.\n",
        "\n",
        "O valor do quadrado R é a porcentagem de variação da variável de resposta (y) que é explicada por um modelo linear.\n",
        "\n",
        "#### **Mean Squared Error (MSE)**\n",
        "\n",
        "O erro médio quadrático mede a média dos quadrados dos erros, ou seja, a diferença entre o valor real (y) e o valor estimado (ŷ).\n",
        "\n",
        "Vamos analisar cada modelo abaixo.\n"
      ]
    },
    {
      "cell_type": "markdown",
      "metadata": {
        "id": "eab6UZhqUWz0",
        "colab_type": "text"
      },
      "source": [
        "### Modelo 1 : Regressão Linear Simples\n",
        "\n"
      ]
    },
    {
      "cell_type": "markdown",
      "metadata": {
        "id": "S4QNgGMMXO7O",
        "colab_type": "text"
      },
      "source": [
        "Vamos calcular o $R​^2$"
      ]
    },
    {
      "cell_type": "code",
      "metadata": {
        "id": "txIu_btrURC2",
        "colab_type": "code",
        "colab": {
          "base_uri": "https://localhost:8080/",
          "height": 34
        },
        "outputId": "44f12bde-a73b-43da-af22-8afe2c2047d5"
      },
      "source": [
        "lr1 = LinearRegression()\n",
        "\n",
        "x1  = data[['highway-mpg']]\n",
        "y1 = data[['price']]\n",
        "\n",
        "\n",
        "lr1.fit(x1,y1)\n",
        "\n",
        "print(\"O quadrado de R é \",lr1.score(x1,y1)*100)"
      ],
      "execution_count": 114,
      "outputs": [
        {
          "output_type": "stream",
          "text": [
            "O quadrado de R é  49.65911884339176\n"
          ],
          "name": "stdout"
        }
      ]
    },
    {
      "cell_type": "markdown",
      "metadata": {
        "id": "0w_BSPecX-SL",
        "colab_type": "text"
      },
      "source": [
        "Podemos dizer que ~ 49,659% da variação do preço é explicada por este modelo linear simples.\n",
        "\n",
        "\n",
        "Vamos calcular MSE, prevendo a saída , onde X é a variável de entrada:"
      ]
    },
    {
      "cell_type": "code",
      "metadata": {
        "id": "O0liRfj9XAwt",
        "colab_type": "code",
        "colab": {
          "base_uri": "https://localhost:8080/",
          "height": 85
        },
        "outputId": "e73bd8a5-f21b-48e8-92d2-aa0bd7d12be5"
      },
      "source": [
        "f_y = lr1.predict(x1)\n",
        "\n",
        "print(\"Os quatro primeiros valores é \",f_y[0:4])"
      ],
      "execution_count": 115,
      "outputs": [
        {
          "output_type": "stream",
          "text": [
            "Os quatro primeiros valores é  [[16236.50464347]\n",
            " [16236.50464347]\n",
            " [17058.23802179]\n",
            " [13771.3045085 ]]\n"
          ],
          "name": "stdout"
        }
      ]
    },
    {
      "cell_type": "markdown",
      "metadata": {
        "id": "maYc-vTkZD84",
        "colab_type": "text"
      },
      "source": [
        "Vamos importar a função mean_squared_error do módulo sklearn.metrics,  para compararmos os resultados previstos com os resultados reais."
      ]
    },
    {
      "cell_type": "code",
      "metadata": {
        "id": "EEjdpXRrYp1T",
        "colab_type": "code",
        "colab": {
          "base_uri": "https://localhost:8080/",
          "height": 34
        },
        "outputId": "35cab194-5eb4-4c04-e6f7-2751c495b883"
      },
      "source": [
        "from sklearn.metrics import mean_squared_error\n",
        "\n",
        "mse = mean_squared_error(y1,f_y)\n",
        "\n",
        "print(\"O erro médio de preço é \",mse)"
      ],
      "execution_count": 116,
      "outputs": [
        {
          "output_type": "stream",
          "text": [
            "O erro médio de preço é  31635042.944639888\n"
          ],
          "name": "stdout"
        }
      ]
    },
    {
      "cell_type": "markdown",
      "metadata": {
        "id": "1TkrP4pQaeFP",
        "colab_type": "text"
      },
      "source": [
        "### Modelo 2 : Regressão Linear Múltipla\n",
        "\n"
      ]
    },
    {
      "cell_type": "markdown",
      "metadata": {
        "id": "ip8vmlSoeMc_",
        "colab_type": "text"
      },
      "source": [
        "Vamos calcular o $R ^2$"
      ]
    },
    {
      "cell_type": "code",
      "metadata": {
        "id": "E2hGUCD4Z2hf",
        "colab_type": "code",
        "colab": {
          "base_uri": "https://localhost:8080/",
          "height": 34
        },
        "outputId": "8dfdb883-00fe-44cc-fc6b-9c436e3401ed"
      },
      "source": [
        "Z1 = data[['horsepower', 'curb-weight', 'engine-size', 'highway-mpg']]\n",
        "y2 = data['price']\n",
        "\n",
        "lr1.fit(Z1,y2)\n",
        "print(\"O R ao quadrado é \",lr1.score(Z1,y2)*100)"
      ],
      "execution_count": 117,
      "outputs": [
        {
          "output_type": "stream",
          "text": [
            "O R ao quadrado é  80.93562806577457\n"
          ],
          "name": "stdout"
        }
      ]
    },
    {
      "cell_type": "markdown",
      "metadata": {
        "id": "QCmQZgJ9eaZD",
        "colab_type": "text"
      },
      "source": [
        "Podemos dizer que ~ 80,896% da variação de preço é explicada por essa regressão linear múltipla \"multi_fit\"."
      ]
    },
    {
      "cell_type": "markdown",
      "metadata": {
        "id": "wM1nZw59edTV",
        "colab_type": "text"
      },
      "source": [
        "Vamos calcular MSE"
      ]
    },
    {
      "cell_type": "code",
      "metadata": {
        "id": "TG2-1z5ha4Vk",
        "colab_type": "code",
        "colab": {
          "base_uri": "https://localhost:8080/",
          "height": 34
        },
        "outputId": "ad7c45e2-5d27-458d-e85d-538bef6febbd"
      },
      "source": [
        "f_y2 = lr1.predict(Z1)\n",
        "\n",
        "mse1 = mean_squared_error(y2,f_y2)\n",
        "\n",
        "print(\"O erro médio de preço é \", mse1) "
      ],
      "execution_count": 118,
      "outputs": [
        {
          "output_type": "stream",
          "text": [
            "O erro médio de preço é  11980366.87072649\n"
          ],
          "name": "stdout"
        }
      ]
    },
    {
      "cell_type": "markdown",
      "metadata": {
        "id": "ujZ1ISVResr5",
        "colab_type": "text"
      },
      "source": [
        "### Modelo 3: Ajuste Polinomial\n",
        " \n"
      ]
    },
    {
      "cell_type": "markdown",
      "metadata": {
        "id": "I0XbM_pTgY8I",
        "colab_type": "text"
      },
      "source": [
        "Vamos importar a função r2_score do módulo sklearn.metrics, pois estamos usando uma função polinomial."
      ]
    },
    {
      "cell_type": "code",
      "metadata": {
        "id": "p3jfqyasgt3s",
        "colab_type": "code",
        "colab": {}
      },
      "source": [
        "from sklearn.metrics import r2_score"
      ],
      "execution_count": 119,
      "outputs": []
    },
    {
      "cell_type": "markdown",
      "metadata": {
        "id": "JcfqTKx0g0mW",
        "colab_type": "text"
      },
      "source": [
        "Vamos calcular $R^2$"
      ]
    },
    {
      "cell_type": "code",
      "metadata": {
        "id": "55g9chyyg0D5",
        "colab_type": "code",
        "colab": {
          "base_uri": "https://localhost:8080/",
          "height": 34
        },
        "outputId": "3dcc83e5-4833-4f57-e6fa-b15b28e4e805"
      },
      "source": [
        "x3 = data['highway-mpg']\n",
        "y3 = data['price']\n",
        "\n",
        "# como parametro passo os eixos e o grau da função \n",
        "func1 = np.polyfit(x3,y3,3)\n",
        "\n",
        "#Exibir\n",
        "\n",
        "p = np.poly1d(func1)\n",
        "\n",
        "r_pol = r2_score(y3,p(x3))\n",
        "print(\"O r ao quadrado é \", r_pol*100)\n"
      ],
      "execution_count": 120,
      "outputs": [
        {
          "output_type": "stream",
          "text": [
            "O r ao quadrado é  67.41946663906519\n"
          ],
          "name": "stdout"
        }
      ]
    },
    {
      "cell_type": "markdown",
      "metadata": {
        "id": "ico5RtWLiYpX",
        "colab_type": "text"
      },
      "source": [
        "Podemos dizer que ~ 67,419% da variação de preço é explicada por esse ajuste polinomial"
      ]
    },
    {
      "cell_type": "markdown",
      "metadata": {
        "id": "S0bwDovJieQL",
        "colab_type": "text"
      },
      "source": [
        "Vamos calcular MSE"
      ]
    },
    {
      "cell_type": "code",
      "metadata": {
        "id": "eYe72hf7h9vS",
        "colab_type": "code",
        "colab": {
          "base_uri": "https://localhost:8080/",
          "height": 34
        },
        "outputId": "b72c756c-8907-4a6d-e039-7f537e60e1a5"
      },
      "source": [
        "mean_squared_error(y3,p(x3))"
      ],
      "execution_count": 121,
      "outputs": [
        {
          "output_type": "execute_result",
          "data": {
            "text/plain": [
              "20474146.426361218"
            ]
          },
          "metadata": {
            "tags": []
          },
          "execution_count": 121
        }
      ]
    },
    {
      "cell_type": "markdown",
      "metadata": {
        "id": "4bIsAPtViyQb",
        "colab_type": "text"
      },
      "source": [
        "##  Previsão e Tomada de Decisão\n",
        "\n",
        "### Predict \n",
        "\n",
        "Anteriormente, treinamos o modelo usando o método **fit** . Agora usaremos o método **predict** para produzir uma predição. "
      ]
    },
    {
      "cell_type": "markdown",
      "metadata": {
        "id": "L8vECD8hkIZD",
        "colab_type": "text"
      },
      "source": [
        "Plotagem do gráfico"
      ]
    },
    {
      "cell_type": "markdown",
      "metadata": {
        "id": "elbiqZX0kpRA",
        "colab_type": "text"
      },
      "source": [
        "<code>.arange()</code> = Os valores são gerados dentro do intervalo semiaberto.\n",
        "\n",
        "<code>.reshape()</code> = Dá uma nova forma a uma matriz sem alterar seus dados."
      ]
    },
    {
      "cell_type": "code",
      "metadata": {
        "id": "_cONr0MrkrU8",
        "colab_type": "code",
        "colab": {}
      },
      "source": [
        "novos_valores = np.arange(1,100,1).reshape(-1,1)"
      ],
      "execution_count": null,
      "outputs": []
    },
    {
      "cell_type": "code",
      "metadata": {
        "id": "cheZIb4blfMB",
        "colab_type": "code",
        "colab": {}
      },
      "source": [
        "x4 = data[['highway-mpg']]\n",
        "y4 = data[['price']]"
      ],
      "execution_count": 123,
      "outputs": []
    },
    {
      "cell_type": "code",
      "metadata": {
        "id": "yk8KBwA8mE1b",
        "colab_type": "code",
        "colab": {
          "base_uri": "https://localhost:8080/",
          "height": 34
        },
        "outputId": "3fe126b3-b084-4cdc-dab8-88cca18bb9a2"
      },
      "source": [
        "lr1.fit(x4,y4)"
      ],
      "execution_count": 124,
      "outputs": [
        {
          "output_type": "execute_result",
          "data": {
            "text/plain": [
              "LinearRegression(copy_X=True, fit_intercept=True, n_jobs=None, normalize=False)"
            ]
          },
          "metadata": {
            "tags": []
          },
          "execution_count": 124
        }
      ]
    },
    {
      "cell_type": "code",
      "metadata": {
        "id": "c8c50c12mJUc",
        "colab_type": "code",
        "colab": {}
      },
      "source": [
        "f_y3 = lr1.predict(novos_valores)"
      ],
      "execution_count": 125,
      "outputs": []
    },
    {
      "cell_type": "code",
      "metadata": {
        "id": "Qd8Ncat4mrJJ",
        "colab_type": "code",
        "colab": {
          "base_uri": "https://localhost:8080/",
          "height": 282
        },
        "outputId": "068d3ef9-7acc-4af2-b8b5-2512c1d32911"
      },
      "source": [
        "plt.plot(novos_valores, f_y3)"
      ],
      "execution_count": 126,
      "outputs": [
        {
          "output_type": "execute_result",
          "data": {
            "text/plain": [
              "[<matplotlib.lines.Line2D at 0x7fc9333101d0>]"
            ]
          },
          "metadata": {
            "tags": []
          },
          "execution_count": 126
        },
        {
          "output_type": "display_data",
          "data": {
            "image/png": "[encoded data removed]",
            "text/plain": [
              "<Figure size 432x288 with 1 Axes>"
            ]
          },
          "metadata": {
            "tags": [],
            "needs_background": "light"
          }
        }
      ]
    },
    {
      "cell_type": "markdown",
      "metadata": {
        "id": "U9fPSYCho1y-",
        "colab_type": "text"
      },
      "source": [
        "## Considerações Finais\n",
        "Agora que visualizamos os diferentes modelos e geramos os valores de R ao quadrado e MSE para os ajustes, como determinamos um bom ajuste do modelo?\n",
        "\n",
        "### O que é um bom valor ao quadrado R?\n",
        "Ao comparar modelos, o modelo com o maior valor do quadrado R é o melhor ajuste para os dados.\n",
        "\n",
        "### **O que é um bom MSE?**\n",
        "Ao comparar modelos, o modelo com o menor valor MSE é mais adequado para os dados.\n",
        "\n",
        "Vamos dar uma olhada nos valores para os diferentes modelos.\n",
        "\n",
        "### **Regressão linear simples:**\n",
        "\n",
        "usando Highway-mpg como uma variável preditora de PRICE.\n",
        "\n",
        "* $R^2$: 0.49659118843391759\n",
        "\n",
        "* MSE: $3,16 * 10 ^ 7$\n",
        "\n",
        "### **Regressão linear múltipla:**\n",
        "usando Highway-mpg, peso médio, tamanho do motor e estrada-mpg como variáveis ​​preditoras de preço.\n",
        "\n",
        "* $R^2$: 0.80896354913783497\n",
        "* MSE: $1,2 * 10^7$\n",
        "\n",
        "### **Ajuste polinomial:**\n",
        "Usando Highway-mpg como uma variável preditora de preço.\n",
        "\n",
        "* $R^2$: 0,6741946663906514\n",
        "\n",
        "* MSE: $2,05 * 10 ^ 7$\n",
        "\n",
        "### **Modelo de regressão linear simples (SLR) vs modelo de regressão linear múltipla (MLR)**\n",
        "\n",
        "Normalmente, quanto mais variáveis ​​você tiver, melhor será o seu modelo em prever, mas isso nem sempre é verdade. Às vezes, você pode não ter dados suficientes, pode encontrar problemas numéricos ou muitas das variáveis ​​podem não ser úteis e até agir como ruído. Como resultado, você deve sempre verificar o MSE e $R^2$.\n",
        "\n",
        "Para poder comparar os resultados dos modelos MLR vs SLR, analisamos uma combinação do quadrado do R e do MSE para obter a melhor conclusão sobre o ajuste do modelo.\n",
        "\n",
        "**MSE** :  O MSE do SLR é $3.16*10 ^ 7$ enquanto o MLR tem um MSE de $1.2 * 10 ^ 7$. O MSE da MLR é muito menor.\n",
        "\n",
        "**$R^2$** : Nesse caso, também podemos ver que há uma grande diferença entre o $R^2$ da SLR e o $R^2$ da MLR.O $R^2$ para o SLR (~ 0,497) é muito pequeno comparado ao $R^2$ para o MLR (~ 0,809).O $R^2$ em combinação com o MSE mostra que a MLR parece ser o melhor modelo adequado neste caso, em comparação com a SLR.\n",
        "\n",
        "\n",
        "### **Modelo linear simples (SLR) vs ajuste polinomial**\n",
        "MSE : Podemos ver que o Polynomial Fit derrubou o MSE, pois esse MSE é menor que o da SLR.\n",
        "\n",
        "$R^2$ : o R-quadrado para o Polyfit é maior que o R-quadrado para a SLR, então o Polynomial Fit também trouxe o R-quadrado bastante.\n",
        "\n",
        "Como o ajuste polinomial resultou em um MSE mais baixo e um $R^2$ mais alto, podemos concluir que esse era um modelo de ajuste melhor do que a regressão linear simples para prever o preço com Highway-mpg como variável preditora.\n",
        "\n",
        "### **Regressão linear múltipla (MLR) vs ajuste polinomial**\n",
        "\n",
        "MSE : O MSE para o MLR é menor que o MSE para o ajuste polinomial.\n",
        "\n",
        "$R^2$: O $R^2$ para a MLR também é muito maior do que para o ajuste polinomial.\n",
        "\n",
        "### **Conclusão:**\n",
        "Comparando esses três modelos, concluímos que o modelo MLR é o melhor modelo para poder prever o preço do nosso conjunto de dados. Esse resultado faz sentido, já que temos 27 variáveis ​​no total e sabemos que mais de uma dessas variáveis ​​são preditores em potencial do preço final do carro."
      ]
    }
  ]
}